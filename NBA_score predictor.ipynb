{
 "cells": [
  {
   "cell_type": "code",
   "execution_count": 70,
   "id": "hearing-bryan",
   "metadata": {},
   "outputs": [],
   "source": [
    "import pandas as pd"
   ]
  },
  {
   "cell_type": "code",
   "execution_count": 71,
   "id": "overall-humidity",
   "metadata": {},
   "outputs": [],
   "source": [
    "nba = pd.read_csv(\"nba_2013.csv\")"
   ]
  },
  {
   "cell_type": "code",
   "execution_count": 72,
   "id": "adequate-cornell",
   "metadata": {},
   "outputs": [
    {
     "name": "stdout",
     "output_type": "stream",
     "text": [
      "             player pos  age bref_team_id   g  gs    mp   fg   fga    fg.  \\\n",
      "0        Quincy Acy  SF   23          TOT  63   0   847   66   141  0.468   \n",
      "1      Steven Adams   C   20          OKC  81  20  1197   93   185  0.503   \n",
      "2       Jeff Adrien  PF   27          TOT  53  12   961  143   275  0.520   \n",
      "3     Arron Afflalo  SG   28          ORL  73  73  2552  464  1011  0.459   \n",
      "4     Alexis Ajinca   C   25          NOP  56  30   951  136   249  0.546   \n",
      "..              ...  ..  ...          ...  ..  ..   ...  ...   ...    ...   \n",
      "476     Tony Wroten  SG   20          PHI  72  16  1765  345   808  0.427   \n",
      "477      Nick Young  SG   28          LAL  64   9  1810  387   889  0.435   \n",
      "478  Thaddeus Young  PF   25          PHI  79  78  2718  582  1283  0.454   \n",
      "479     Cody Zeller   C   21          CHA  82   3  1416  172   404  0.426   \n",
      "480    Tyler Zeller   C   24          CLE  70   9  1049  156   290  0.538   \n",
      "\n",
      "     ...  drb  trb  ast  stl  blk  tov   pf   pts     season  season_end  \n",
      "0    ...  144  216   28   23   26   30  122   171  2013-2014        2013  \n",
      "1    ...  190  332   43   40   57   71  203   265  2013-2014        2013  \n",
      "2    ...  204  306   38   24   36   39  108   362  2013-2014        2013  \n",
      "3    ...  230  262  248   35    3  146  136  1330  2013-2014        2013  \n",
      "4    ...  183  277   40   23   46   63  187   328  2013-2014        2013  \n",
      "..   ...  ...  ...  ...  ...  ...  ...  ...   ...        ...         ...  \n",
      "476  ...  159  228  217   78   16  204  151   939  2013-2014        2013  \n",
      "477  ...  137  166   95   46   12   95  156  1144  2013-2014        2013  \n",
      "478  ...  310  476  182  167   36  165  213  1417  2013-2014        2013  \n",
      "479  ...  235  353   92   40   41   87  170   490  2013-2014        2013  \n",
      "480  ...  179  282   36   18   38   60  137   399  2013-2014        2013  \n",
      "\n",
      "[481 rows x 31 columns]\n"
     ]
    }
   ],
   "source": [
    "print(nba)"
   ]
  },
  {
   "cell_type": "code",
   "execution_count": 73,
   "id": "funky-thriller",
   "metadata": {},
   "outputs": [
    {
     "name": "stdout",
     "output_type": "stream",
     "text": [
      "Index(['player', 'pos', 'age', 'bref_team_id', 'g', 'gs', 'mp', 'fg', 'fga',\n",
      "       'fg.', 'x3p', 'x3pa', 'x3p.', 'x2p', 'x2pa', 'x2p.', 'efg.', 'ft',\n",
      "       'fta', 'ft.', 'orb', 'drb', 'trb', 'ast', 'stl', 'blk', 'tov', 'pf',\n",
      "       'pts', 'season', 'season_end'],\n",
      "      dtype='object')\n"
     ]
    }
   ],
   "source": [
    "print(nba.columns)"
   ]
  },
  {
   "cell_type": "code",
   "execution_count": 74,
   "id": "apart-nepal",
   "metadata": {},
   "outputs": [
    {
     "name": "stdout",
     "output_type": "stream",
     "text": [
      "['player' 'pos' 'age' 'bref_team_id' 'g' 'gs' 'mp' 'fg' 'fga' 'fg.' 'x3p'\n",
      " 'x3pa' 'x3p.' 'x2p' 'x2pa' 'x2p.' 'efg.' 'ft' 'fta' 'ft.' 'orb' 'drb'\n",
      " 'trb' 'ast' 'stl' 'blk' 'tov' 'pf' 'pts' 'season' 'season_end']\n"
     ]
    }
   ],
   "source": [
    "print(nba.columns.values)"
   ]
  },
  {
   "cell_type": "code",
   "execution_count": 75,
   "id": "equivalent-richmond",
   "metadata": {},
   "outputs": [
    {
     "data": {
      "text/plain": [
       "player          False\n",
       "pos             False\n",
       "age             False\n",
       "bref_team_id    False\n",
       "g               False\n",
       "gs              False\n",
       "mp              False\n",
       "fg              False\n",
       "fga             False\n",
       "fg.              True\n",
       "x3p             False\n",
       "x3pa            False\n",
       "x3p.             True\n",
       "x2p             False\n",
       "x2pa            False\n",
       "x2p.             True\n",
       "efg.             True\n",
       "ft              False\n",
       "fta             False\n",
       "ft.              True\n",
       "orb             False\n",
       "drb             False\n",
       "trb             False\n",
       "ast             False\n",
       "stl             False\n",
       "blk             False\n",
       "tov             False\n",
       "pf              False\n",
       "pts             False\n",
       "season          False\n",
       "season_end      False\n",
       "dtype: bool"
      ]
     },
     "execution_count": 75,
     "metadata": {},
     "output_type": "execute_result"
    }
   ],
   "source": [
    "nba.isnull().any()"
   ]
  },
  {
   "cell_type": "code",
   "execution_count": 76,
   "id": "impossible-justice",
   "metadata": {},
   "outputs": [],
   "source": [
    "nba[\"fg.\"].fillna(nba[\"fg.\"].mean(),inplace=True)\n",
    "nba[\"x2p.\"].fillna(nba[\"x2p.\"].mean(),inplace=True)\n",
    "nba[\"efg.\"].fillna(nba[\"efg.\"].mean(),inplace=True)\n",
    "nba[\"ft.\"].fillna(nba[\"ft.\"].mean(),inplace=True)\n",
    "nba[\"x3p.\"].fillna(nba[\"x3p.\"].mean(),inplace=True)"
   ]
  },
  {
   "cell_type": "code",
   "execution_count": 77,
   "id": "approximate-average",
   "metadata": {},
   "outputs": [
    {
     "data": {
      "text/plain": [
       "player          False\n",
       "pos             False\n",
       "age             False\n",
       "bref_team_id    False\n",
       "g               False\n",
       "gs              False\n",
       "mp              False\n",
       "fg              False\n",
       "fga             False\n",
       "fg.             False\n",
       "x3p             False\n",
       "x3pa            False\n",
       "x3p.            False\n",
       "x2p             False\n",
       "x2pa            False\n",
       "x2p.            False\n",
       "efg.            False\n",
       "ft              False\n",
       "fta             False\n",
       "ft.             False\n",
       "orb             False\n",
       "drb             False\n",
       "trb             False\n",
       "ast             False\n",
       "stl             False\n",
       "blk             False\n",
       "tov             False\n",
       "pf              False\n",
       "pts             False\n",
       "season          False\n",
       "season_end      False\n",
       "dtype: bool"
      ]
     },
     "execution_count": 77,
     "metadata": {},
     "output_type": "execute_result"
    }
   ],
   "source": [
    "nba.isnull().any()"
   ]
  },
  {
   "cell_type": "code",
   "execution_count": 78,
   "id": "alien-tucson",
   "metadata": {},
   "outputs": [],
   "source": [
    "numeric_columns = ['age','g','gs','mp','fg','fga','fg.','x3p','x3pa','x3p.','x2p','x2pa','x2p.','efg.','ft','fta','ft.','orb','drb','trb','ast','stl','blk','tov','pf','pts']"
   ]
  },
  {
   "cell_type": "code",
   "execution_count": 79,
   "id": "functioning-packet",
   "metadata": {},
   "outputs": [],
   "source": [
    "nba_numeric = nba[numeric_columns]"
   ]
  },
  {
   "cell_type": "code",
   "execution_count": 80,
   "id": "blank-fisher",
   "metadata": {},
   "outputs": [],
   "source": [
    "nba_numeric_normalized = nba_numeric.apply(lambda m: (m - m.min())/(m.max() - m.min()))"
   ]
  },
  {
   "cell_type": "code",
   "execution_count": 81,
   "id": "emerging-intro",
   "metadata": {},
   "outputs": [],
   "source": [
    "nba_category = nba[['player','pos','bref_team_id','season']]\n",
    "nba_final = pd.concat([nba_category, nba_numeric_normalized], axis=1)"
   ]
  },
  {
   "cell_type": "code",
   "execution_count": 82,
   "id": "sitting-engineer",
   "metadata": {},
   "outputs": [],
   "source": [
    "from sklearn.model_selection import train_test_split"
   ]
  },
  {
   "cell_type": "code",
   "execution_count": 83,
   "id": "ordered-census",
   "metadata": {},
   "outputs": [],
   "source": [
    "x_col = nba[['age','g','gs','mp','fg','fga','fg.','x3p','x3pa','x3p.','x2p','x2pa','x2p.','efg.','ft','fta','ft.','orb','drb','trb','ast','stl','blk','tov','pf','pts']]\n",
    "y_col = nba['pts']"
   ]
  },
  {
   "cell_type": "code",
   "execution_count": 84,
   "id": "civic-insider",
   "metadata": {},
   "outputs": [],
   "source": [
    "x_train,x_test,y_train,y_test = train_test_split(x_col, y_col, test_size = 0.3, random_state = 0)"
   ]
  },
  {
   "cell_type": "code",
   "execution_count": 85,
   "id": "considered-vermont",
   "metadata": {},
   "outputs": [],
   "source": [
    "from sklearn.neighbors import KNeighborsRegressor\n",
    "from sklearn import metrics"
   ]
  },
  {
   "cell_type": "code",
   "execution_count": 86,
   "id": "colored-trainer",
   "metadata": {},
   "outputs": [
    {
     "name": "stdout",
     "output_type": "stream",
     "text": [
      "Regression score is: 0.9797 for kval: 1\n",
      "Regression score is: 0.9857 for kval: 2\n",
      "Regression score is: 0.9857 for kval: 3\n",
      "Regression score is: 0.9859 for kval: 4\n",
      "Regression score is: 0.9864 for kval: 5\n",
      "Regression score is: 0.9874 for kval: 6\n",
      "Regression score is: 0.9872 for kval: 7\n",
      "Regression score is: 0.9865 for kval: 8\n",
      "Regression score is: 0.9850 for kval: 9\n",
      "Regression score is: 0.9867 for kval: 10\n",
      "Regression score is: 0.9854 for kval: 11\n",
      "Regression score is: 0.9847 for kval: 12\n",
      "Regression score is: 0.9857 for kval: 13\n",
      "Regression score is: 0.9844 for kval: 14\n",
      "Regression score is: 0.9833 for kval: 15\n"
     ]
    }
   ],
   "source": [
    "for k in range(15):\n",
    "    kval = k + 1\n",
    "    knn = KNeighborsRegressor(n_neighbors=kval)\n",
    "    knn.fit(x_train,y_train)\n",
    "    y_pred = knn.predict(x_test)\n",
    "    print (\"Regression score is:\",format(metrics.r2_score(y_test, y_pred),'.4f'), \"for kval:\", kval)"
   ]
  },
  {
   "cell_type": "code",
   "execution_count": 87,
   "id": "federal-academy",
   "metadata": {},
   "outputs": [],
   "source": [
    "knn = KNeighborsRegressor(n_neighbors=6)\n",
    "knn.fit(x_train,y_train)\n",
    "y_pred = knn.predict(x_test)"
   ]
  },
  {
   "cell_type": "code",
   "execution_count": 88,
   "id": "unexpected-breakfast",
   "metadata": {},
   "outputs": [
    {
     "name": "stdout",
     "output_type": "stream",
     "text": [
      "Regression score is: 0.9874\n"
     ]
    }
   ],
   "source": [
    "print (\"Regression score is:\", format(metrics.r2_score(y_test, y_pred),'.4f'))"
   ]
  },
  {
   "cell_type": "code",
   "execution_count": 89,
   "id": "binary-spanking",
   "metadata": {},
   "outputs": [],
   "source": [
    "predicted_values = pd.DataFrame({'Actual points scored':y_test.tolist(), 'Scored points predicted':y_pred.tolist()})"
   ]
  },
  {
   "cell_type": "code",
   "execution_count": 126,
   "id": "about-capitol",
   "metadata": {},
   "outputs": [
    {
     "data": {
      "text/html": [
       "<div>\n",
       "<style scoped>\n",
       "    .dataframe tbody tr th:only-of-type {\n",
       "        vertical-align: middle;\n",
       "    }\n",
       "\n",
       "    .dataframe tbody tr th {\n",
       "        vertical-align: top;\n",
       "    }\n",
       "\n",
       "    .dataframe thead th {\n",
       "        text-align: right;\n",
       "    }\n",
       "</style>\n",
       "<table border=\"1\" class=\"dataframe\">\n",
       "  <thead>\n",
       "    <tr style=\"text-align: right;\">\n",
       "      <th></th>\n",
       "      <th>Actual points scored</th>\n",
       "      <th>Scored points predicted</th>\n",
       "    </tr>\n",
       "  </thead>\n",
       "  <tbody>\n",
       "    <tr>\n",
       "      <th>0</th>\n",
       "      <td>436</td>\n",
       "      <td>399.166667</td>\n",
       "    </tr>\n",
       "    <tr>\n",
       "      <th>1</th>\n",
       "      <td>717</td>\n",
       "      <td>682.500000</td>\n",
       "    </tr>\n",
       "    <tr>\n",
       "      <th>2</th>\n",
       "      <td>1096</td>\n",
       "      <td>1098.166667</td>\n",
       "    </tr>\n",
       "    <tr>\n",
       "      <th>3</th>\n",
       "      <td>19</td>\n",
       "      <td>11.666667</td>\n",
       "    </tr>\n",
       "    <tr>\n",
       "      <th>4</th>\n",
       "      <td>988</td>\n",
       "      <td>914.000000</td>\n",
       "    </tr>\n",
       "    <tr>\n",
       "      <th>...</th>\n",
       "      <td>...</td>\n",
       "      <td>...</td>\n",
       "    </tr>\n",
       "    <tr>\n",
       "      <th>140</th>\n",
       "      <td>1107</td>\n",
       "      <td>1125.166667</td>\n",
       "    </tr>\n",
       "    <tr>\n",
       "      <th>141</th>\n",
       "      <td>35</td>\n",
       "      <td>30.166667</td>\n",
       "    </tr>\n",
       "    <tr>\n",
       "      <th>142</th>\n",
       "      <td>810</td>\n",
       "      <td>800.833333</td>\n",
       "    </tr>\n",
       "    <tr>\n",
       "      <th>143</th>\n",
       "      <td>796</td>\n",
       "      <td>786.000000</td>\n",
       "    </tr>\n",
       "    <tr>\n",
       "      <th>144</th>\n",
       "      <td>94</td>\n",
       "      <td>87.000000</td>\n",
       "    </tr>\n",
       "  </tbody>\n",
       "</table>\n",
       "<p>145 rows × 2 columns</p>\n",
       "</div>"
      ],
      "text/plain": [
       "     Actual points scored  Scored points predicted\n",
       "0                     436               399.166667\n",
       "1                     717               682.500000\n",
       "2                    1096              1098.166667\n",
       "3                      19                11.666667\n",
       "4                     988               914.000000\n",
       "..                    ...                      ...\n",
       "140                  1107              1125.166667\n",
       "141                    35                30.166667\n",
       "142                   810               800.833333\n",
       "143                   796               786.000000\n",
       "144                    94                87.000000\n",
       "\n",
       "[145 rows x 2 columns]"
      ]
     },
     "execution_count": 126,
     "metadata": {},
     "output_type": "execute_result"
    }
   ],
   "source": [
    "predicted_values"
   ]
  },
  {
   "cell_type": "code",
   "execution_count": 128,
   "id": "pediatric-keeping",
   "metadata": {},
   "outputs": [
    {
     "data": {
      "text/plain": [
       "Text(0, 0.5, 'Predicted values from KNN')"
      ]
     },
     "execution_count": 128,
     "metadata": {},
     "output_type": "execute_result"
    },
    {
     "data": {
      "image/png": "[encoded data removed]",
      "text/plain": [
       "<Figure size 432x288 with 1 Axes>"
      ]
     },
     "metadata": {
      "needs_background": "light"
     },
     "output_type": "display_data"
    }
   ],
   "source": [
    "import matplotlib.pyplot as plt\n",
    "plt.scatter(y_test,y_pred)\n",
    "plt.xlabel('Test Values')\n",
    "plt.ylabel('Predicted values from KNN')"
   ]
  },
  {
   "cell_type": "code",
   "execution_count": 91,
   "id": "spread-birth",
   "metadata": {},
   "outputs": [],
   "source": [
    "from sklearn.linear_model import LogisticRegression"
   ]
  },
  {
   "cell_type": "code",
   "execution_count": 92,
   "id": "collected-bidder",
   "metadata": {},
   "outputs": [],
   "source": [
    "from sklearn.preprocessing import StandardScaler\n",
    "sc_X = StandardScaler()\n",
    "X_Train = sc_X.fit_transform(x_train)\n",
    "X_Test = sc_X.transform(x_test)\n",
    "logr = LogisticRegression(random_state=0, max_iter=100000)"
   ]
  },
  {
   "cell_type": "code",
   "execution_count": 93,
   "id": "related-logistics",
   "metadata": {},
   "outputs": [
    {
     "data": {
      "text/plain": [
       "LogisticRegression(max_iter=100000, random_state=0)"
      ]
     },
     "execution_count": 93,
     "metadata": {},
     "output_type": "execute_result"
    }
   ],
   "source": [
    "logr.fit(X_Train,y_train)"
   ]
  },
  {
   "cell_type": "code",
   "execution_count": 94,
   "id": "blocked-contamination",
   "metadata": {},
   "outputs": [],
   "source": [
    "y_logr_pred = logr.predict(X_Test)"
   ]
  },
  {
   "cell_type": "code",
   "execution_count": 95,
   "id": "paperback-empty",
   "metadata": {},
   "outputs": [
    {
     "name": "stdout",
     "output_type": "stream",
     "text": [
      "Regression score is: 0.8770\n"
     ]
    }
   ],
   "source": [
    "print (\"Regression score is:\", format(metrics.r2_score(y_test, y_logr_pred),'.4f'))"
   ]
  },
  {
   "cell_type": "code",
   "execution_count": 96,
   "id": "laden-prince",
   "metadata": {},
   "outputs": [],
   "source": [
    "predicted_values_logr = pd.DataFrame({'Actual points scored':y_test.tolist(), 'Scored points predicted':y_logr_pred.tolist()})"
   ]
  },
  {
   "cell_type": "code",
   "execution_count": 97,
   "id": "authentic-netscape",
   "metadata": {},
   "outputs": [
    {
     "data": {
      "text/html": [
       "<div>\n",
       "<style scoped>\n",
       "    .dataframe tbody tr th:only-of-type {\n",
       "        vertical-align: middle;\n",
       "    }\n",
       "\n",
       "    .dataframe tbody tr th {\n",
       "        vertical-align: top;\n",
       "    }\n",
       "\n",
       "    .dataframe thead th {\n",
       "        text-align: right;\n",
       "    }\n",
       "</style>\n",
       "<table border=\"1\" class=\"dataframe\">\n",
       "  <thead>\n",
       "    <tr style=\"text-align: right;\">\n",
       "      <th></th>\n",
       "      <th>Actual points scored</th>\n",
       "      <th>Scored points predicted</th>\n",
       "    </tr>\n",
       "  </thead>\n",
       "  <tbody>\n",
       "    <tr>\n",
       "      <th>0</th>\n",
       "      <td>436</td>\n",
       "      <td>532</td>\n",
       "    </tr>\n",
       "    <tr>\n",
       "      <th>1</th>\n",
       "      <td>717</td>\n",
       "      <td>911</td>\n",
       "    </tr>\n",
       "    <tr>\n",
       "      <th>2</th>\n",
       "      <td>1096</td>\n",
       "      <td>814</td>\n",
       "    </tr>\n",
       "    <tr>\n",
       "      <th>3</th>\n",
       "      <td>19</td>\n",
       "      <td>26</td>\n",
       "    </tr>\n",
       "    <tr>\n",
       "      <th>4</th>\n",
       "      <td>988</td>\n",
       "      <td>890</td>\n",
       "    </tr>\n",
       "    <tr>\n",
       "      <th>...</th>\n",
       "      <td>...</td>\n",
       "      <td>...</td>\n",
       "    </tr>\n",
       "    <tr>\n",
       "      <th>140</th>\n",
       "      <td>1107</td>\n",
       "      <td>810</td>\n",
       "    </tr>\n",
       "    <tr>\n",
       "      <th>141</th>\n",
       "      <td>35</td>\n",
       "      <td>76</td>\n",
       "    </tr>\n",
       "    <tr>\n",
       "      <th>142</th>\n",
       "      <td>810</td>\n",
       "      <td>879</td>\n",
       "    </tr>\n",
       "    <tr>\n",
       "      <th>143</th>\n",
       "      <td>796</td>\n",
       "      <td>490</td>\n",
       "    </tr>\n",
       "    <tr>\n",
       "      <th>144</th>\n",
       "      <td>94</td>\n",
       "      <td>14</td>\n",
       "    </tr>\n",
       "  </tbody>\n",
       "</table>\n",
       "<p>145 rows × 2 columns</p>\n",
       "</div>"
      ],
      "text/plain": [
       "     Actual points scored  Scored points predicted\n",
       "0                     436                      532\n",
       "1                     717                      911\n",
       "2                    1096                      814\n",
       "3                      19                       26\n",
       "4                     988                      890\n",
       "..                    ...                      ...\n",
       "140                  1107                      810\n",
       "141                    35                       76\n",
       "142                   810                      879\n",
       "143                   796                      490\n",
       "144                    94                       14\n",
       "\n",
       "[145 rows x 2 columns]"
      ]
     },
     "execution_count": 97,
     "metadata": {},
     "output_type": "execute_result"
    }
   ],
   "source": [
    "predicted_values_logr"
   ]
  },
  {
   "cell_type": "code",
   "execution_count": 129,
   "id": "documentary-remark",
   "metadata": {},
   "outputs": [
    {
     "data": {
      "text/plain": [
       "Text(0, 0.5, 'Predicted values from Logisitc Regression')"
      ]
     },
     "execution_count": 129,
     "metadata": {},
     "output_type": "execute_result"
    },
    {
     "data": {
      "image/png": "[encoded data removed]",
      "text/plain": [
       "<Figure size 432x288 with 1 Axes>"
      ]
     },
     "metadata": {
      "needs_background": "light"
     },
     "output_type": "display_data"
    }
   ],
   "source": [
    "import matplotlib.pyplot as plt\n",
    "plt.scatter(y_test,y_logr_pred)\n",
    "plt.xlabel('Test Values')\n",
    "plt.ylabel('Predicted values from Logisitc Regression')"
   ]
  },
  {
   "cell_type": "code",
   "execution_count": 98,
   "id": "decimal-facial",
   "metadata": {},
   "outputs": [],
   "source": [
    "from sklearn.linear_model import LinearRegression"
   ]
  },
  {
   "cell_type": "code",
   "execution_count": 99,
   "id": "under-device",
   "metadata": {},
   "outputs": [],
   "source": [
    "linear = LinearRegression()"
   ]
  },
  {
   "cell_type": "code",
   "execution_count": 100,
   "id": "convinced-jewelry",
   "metadata": {},
   "outputs": [
    {
     "data": {
      "text/plain": [
       "LinearRegression()"
      ]
     },
     "execution_count": 100,
     "metadata": {},
     "output_type": "execute_result"
    }
   ],
   "source": [
    "linear.fit(x_train,y_train)"
   ]
  },
  {
   "cell_type": "code",
   "execution_count": 101,
   "id": "understood-distribution",
   "metadata": {},
   "outputs": [],
   "source": [
    "y_linear_pred = linear.predict(x_test)"
   ]
  },
  {
   "cell_type": "code",
   "execution_count": 102,
   "id": "mighty-scotland",
   "metadata": {},
   "outputs": [
    {
     "name": "stdout",
     "output_type": "stream",
     "text": [
      "Regression score is: 1.0000\n"
     ]
    }
   ],
   "source": [
    "print (\"Regression score is:\", format(metrics.r2_score(y_test, y_linear_pred),'.4f'))"
   ]
  },
  {
   "cell_type": "code",
   "execution_count": 103,
   "id": "literary-triangle",
   "metadata": {},
   "outputs": [],
   "source": [
    "predicted_values_linear = pd.DataFrame({'Actual points scored':y_test.tolist(), 'Scored points predicted':y_linear_pred.tolist()})"
   ]
  },
  {
   "cell_type": "code",
   "execution_count": 104,
   "id": "victorian-bernard",
   "metadata": {},
   "outputs": [
    {
     "data": {
      "text/html": [
       "<div>\n",
       "<style scoped>\n",
       "    .dataframe tbody tr th:only-of-type {\n",
       "        vertical-align: middle;\n",
       "    }\n",
       "\n",
       "    .dataframe tbody tr th {\n",
       "        vertical-align: top;\n",
       "    }\n",
       "\n",
       "    .dataframe thead th {\n",
       "        text-align: right;\n",
       "    }\n",
       "</style>\n",
       "<table border=\"1\" class=\"dataframe\">\n",
       "  <thead>\n",
       "    <tr style=\"text-align: right;\">\n",
       "      <th></th>\n",
       "      <th>Actual points scored</th>\n",
       "      <th>Scored points predicted</th>\n",
       "    </tr>\n",
       "  </thead>\n",
       "  <tbody>\n",
       "    <tr>\n",
       "      <th>0</th>\n",
       "      <td>436</td>\n",
       "      <td>436.0</td>\n",
       "    </tr>\n",
       "    <tr>\n",
       "      <th>1</th>\n",
       "      <td>717</td>\n",
       "      <td>717.0</td>\n",
       "    </tr>\n",
       "    <tr>\n",
       "      <th>2</th>\n",
       "      <td>1096</td>\n",
       "      <td>1096.0</td>\n",
       "    </tr>\n",
       "    <tr>\n",
       "      <th>3</th>\n",
       "      <td>19</td>\n",
       "      <td>19.0</td>\n",
       "    </tr>\n",
       "    <tr>\n",
       "      <th>4</th>\n",
       "      <td>988</td>\n",
       "      <td>988.0</td>\n",
       "    </tr>\n",
       "    <tr>\n",
       "      <th>...</th>\n",
       "      <td>...</td>\n",
       "      <td>...</td>\n",
       "    </tr>\n",
       "    <tr>\n",
       "      <th>140</th>\n",
       "      <td>1107</td>\n",
       "      <td>1107.0</td>\n",
       "    </tr>\n",
       "    <tr>\n",
       "      <th>141</th>\n",
       "      <td>35</td>\n",
       "      <td>35.0</td>\n",
       "    </tr>\n",
       "    <tr>\n",
       "      <th>142</th>\n",
       "      <td>810</td>\n",
       "      <td>810.0</td>\n",
       "    </tr>\n",
       "    <tr>\n",
       "      <th>143</th>\n",
       "      <td>796</td>\n",
       "      <td>796.0</td>\n",
       "    </tr>\n",
       "    <tr>\n",
       "      <th>144</th>\n",
       "      <td>94</td>\n",
       "      <td>94.0</td>\n",
       "    </tr>\n",
       "  </tbody>\n",
       "</table>\n",
       "<p>145 rows × 2 columns</p>\n",
       "</div>"
      ],
      "text/plain": [
       "     Actual points scored  Scored points predicted\n",
       "0                     436                    436.0\n",
       "1                     717                    717.0\n",
       "2                    1096                   1096.0\n",
       "3                      19                     19.0\n",
       "4                     988                    988.0\n",
       "..                    ...                      ...\n",
       "140                  1107                   1107.0\n",
       "141                    35                     35.0\n",
       "142                   810                    810.0\n",
       "143                   796                    796.0\n",
       "144                    94                     94.0\n",
       "\n",
       "[145 rows x 2 columns]"
      ]
     },
     "execution_count": 104,
     "metadata": {},
     "output_type": "execute_result"
    }
   ],
   "source": [
    "predicted_values_linear"
   ]
  },
  {
   "cell_type": "code",
   "execution_count": 130,
   "id": "agreed-association",
   "metadata": {},
   "outputs": [
    {
     "data": {
      "text/plain": [
       "Text(0, 0.5, 'Predicted values from Linear Regression')"
      ]
     },
     "execution_count": 130,
     "metadata": {},
     "output_type": "execute_result"
    },
    {
     "data": {
      "image/png": "[encoded data removed]",
      "text/plain": [
       "<Figure size 432x288 with 1 Axes>"
      ]
     },
     "metadata": {
      "needs_background": "light"
     },
     "output_type": "display_data"
    }
   ],
   "source": [
    "import matplotlib.pyplot as plt\n",
    "plt.scatter(y_test,y_linear_pred)\n",
    "plt.xlabel('Test Values')\n",
    "plt.ylabel('Predicted values from Linear Regression')"
   ]
  },
  {
   "cell_type": "code",
   "execution_count": null,
   "id": "progressive-status",
   "metadata": {},
   "outputs": [],
   "source": []
  }
 ],
 "metadata": {
  "kernelspec": {
   "display_name": "Python 3",
   "language": "python",
   "name": "python3"
  },
  "language_info": {
   "codemirror_mode": {
    "name": "ipython",
    "version": 3
   },
   "file_extension": ".py",
   "mimetype": "text/x-python",
   "name": "python",
   "nbconvert_exporter": "python",
   "pygments_lexer": "ipython3",
   "version": "3.8.3"
  }
 },
 "nbformat": 4,
 "nbformat_minor": 5
}
